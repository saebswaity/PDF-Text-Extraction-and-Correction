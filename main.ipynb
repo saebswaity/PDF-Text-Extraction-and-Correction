{
 "cells": [
  {
   "cell_type": "code",
   "execution_count": null,
   "metadata": {},
   "outputs": [],
   "source": [
    "!apt-get install tesseract-ocr -y\n",
    "!pip install pytesseract\n",
    "!pip install PyMuPDF\n",
    "!pip install arabic-reshaper\n",
    "!pip install python-bidi\n"
   ]
  },
  {
   "cell_type": "code",
   "execution_count": 10,
   "metadata": {},
   "outputs": [],
   "source": [
    "\n",
    "# Import required libraries\n",
    "import fitz  # PyMuPDF\n",
    "import pytesseract\n",
    "from PIL import Image\n",
    "import re\n",
    "import io\n",
    "from tqdm import tqdm\n",
    "\n",
    "# Function to remove diacritics from Arabic text\n",
    "def remove_diacritics(text):\n",
    "    arabic_diacritics = re.compile(\"\"\"\n",
    "                                     ّ    | # Tashdid\n",
    "                                     َ    | # Fatha\n",
    "                                     ً    | # Tanwin Fath\n",
    "                                     ُ    | # Damma\n",
    "                                     ٌ    | # Tanwin Damm\n",
    "                                     ِ    | # Kasra\n",
    "                                     ٍ    | # Tanwin Kasr\n",
    "                                     ْ    | # Sukun\n",
    "                                     ـ    # Tatwil/Kashida\n",
    "                                 \"\"\", re.VERBOSE)\n",
    "    return re.sub(arabic_diacritics, '', text)\n",
    "\n",
    "# Function to read and extract text from PDF using OCR\n",
    "def extract_text_from_pdf(pdf_path):\n",
    "    # Open the PDF file\n",
    "    pdf_document = fitz.open(pdf_path)\n",
    "    text = \"\"\n",
    "    # Iterate through the pages with tqdm progress bar\n",
    "    for page_num in tqdm(range(len(pdf_document)), desc=\"Processing pages\"):\n",
    "        page = pdf_document.load_page(page_num)\n",
    "        pix = page.get_pixmap()\n",
    "        img = Image.open(io.BytesIO(pix.tobytes()))\n",
    "        # Use pytesseract to do OCR on the image\n",
    "        text += pytesseract.image_to_string(img, lang='ara')\n",
    "    return text\n",
    "\n",
    "# Function to clean text by removing invalid characters\n",
    "def clean_text(text):\n",
    "    # Replace invalid characters with a space\n",
    "    return text.replace('\\ufffd', ' ')\n",
    "\n",
    "# Function to save text to a file\n",
    "def save_text_to_file(text, file_path):\n",
    "    with open(file_path, 'w', encoding='utf-8') as file:\n",
    "        file.write(text)"
   ]
  },
  {
   "cell_type": "code",
   "execution_count": null,
   "metadata": {},
   "outputs": [],
   "source": [
    "\n",
    "# Cell 4: Set file paths and run extraction\n",
    "pdf_path = 'history_book.pdf'  # Replace with your PDF file path\n",
    "txt_path = 'output.txt'  # Replace with your desired output file path\n",
    "\n",
    "\n",
    "# Extract text from PDF\n",
    "extracted_text = extract_text_from_pdf(pdf_path)\n",
    "# Clean the extracted text\n",
    "cleaned_text = clean_text(extracted_text)\n",
    "# Remove diacritics from the cleaned text\n",
    "final_text = remove_diacritics(cleaned_text)\n",
    "# Save the final text to a file\n",
    "save_text_to_file(final_text, txt_path)"
   ]
  }
 ],
 "metadata": {
  "kernelspec": {
   "display_name": "Python 3",
   "language": "python",
   "name": "python3"
  },
  "language_info": {
   "codemirror_mode": {
    "name": "ipython",
    "version": 3
   },
   "file_extension": ".py",
   "mimetype": "text/x-python",
   "name": "python",
   "nbconvert_exporter": "python",
   "pygments_lexer": "ipython3",
   "version": "3.12.2"
  }
 },
 "nbformat": 4,
 "nbformat_minor": 2
}
